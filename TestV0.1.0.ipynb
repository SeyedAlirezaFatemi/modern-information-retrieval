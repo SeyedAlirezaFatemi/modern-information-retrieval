{
 "cells": [
  {
   "cell_type": "markdown",
   "metadata": {},
   "source": [
    "## Import Dependencies "
   ]
  },
  {
   "cell_type": "code",
   "execution_count": 1,
   "metadata": {},
   "outputs": [],
   "source": [
    "%load_ext autoreload\n",
    "%autoreload 2"
   ]
  },
  {
   "cell_type": "code",
   "execution_count": 24,
   "metadata": {},
   "outputs": [],
   "source": [
    "import sys\n",
    "\n",
    "from src.utils.construct_positional_indexes import construct_positional_indexes\n",
    "from src.utils.load_index import load_index\n",
    "from src.models.TextPreprocessor import PersianTextPreprocessor\n",
    "from src.enums import Fields, Methods"
   ]
  },
  {
   "cell_type": "markdown",
   "metadata": {},
   "source": [
    "## Test "
   ]
  },
  {
   "cell_type": "code",
   "execution_count": 3,
   "metadata": {},
   "outputs": [
    {
     "name": "stderr",
     "output_type": "stream",
     "text": [
      "100%|██████████| 1572/1572 [00:08<00:00, 180.68it/s]\n",
      "100%|██████████| 1572/1572 [00:09<00:00, 161.49it/s]\n"
     ]
    }
   ],
   "source": [
    "eanager = construct_positional_indexes()\n",
    "manager.save_index(\"manager.pickle\")"
   ]
  },
  {
   "cell_type": "code",
   "execution_count": 5,
   "metadata": {},
   "outputs": [],
   "source": [
    "text_preprocessor = PersianTextPreprocessor()\n",
    "manager = load_index(\"manager.pickle\", text_preprocessor)"
   ]
  },
  {
   "cell_type": "code",
   "execution_count": 6,
   "metadata": {},
   "outputs": [
    {
     "data": {
      "text/plain": [
       "[278, 313, 330, 477]"
      ]
     },
     "execution_count": 6,
     "metadata": {},
     "output_type": "execute_result"
    }
   ],
   "source": [
    "manager.corpus_index.get_posting_list(\"با\")[0].get_positions(Fields.TEXT)"
   ]
  },
  {
   "cell_type": "code",
   "execution_count": 7,
   "metadata": {},
   "outputs": [],
   "source": [
    "word = \"آقو\""
   ]
  },
  {
   "cell_type": "code",
   "execution_count": 8,
   "metadata": {},
   "outputs": [
    {
     "data": {
      "text/plain": [
       "'آقوس'"
      ]
     },
     "execution_count": 8,
     "metadata": {},
     "output_type": "execute_result"
    }
   ],
   "source": [
    "manager.correct_word(word)"
   ]
  },
  {
   "cell_type": "code",
   "execution_count": 9,
   "metadata": {},
   "outputs": [
    {
     "data": {
      "text/plain": [
       "[5619,\n",
       " 3666,\n",
       " 5236,\n",
       " 6208,\n",
       " 7123,\n",
       " 6177,\n",
       " 3665,\n",
       " 6791,\n",
       " 3360,\n",
       " 6475,\n",
       " 4438,\n",
       " 7101,\n",
       " 6626,\n",
       " 6548,\n",
       " 4335]"
      ]
     },
     "execution_count": 9,
     "metadata": {},
     "output_type": "execute_result"
    }
   ],
   "source": [
    "manager.search(\"نیمه شعبان\")"
   ]
  },
  {
   "cell_type": "code",
   "execution_count": 10,
   "metadata": {},
   "outputs": [
    {
     "data": {
      "text/plain": [
       "[5619,\n",
       " 3666,\n",
       " 5236,\n",
       " 6208,\n",
       " 7123,\n",
       " 6177,\n",
       " 3665,\n",
       " 6791,\n",
       " 3360,\n",
       " 6475,\n",
       " 4438,\n",
       " 7101,\n",
       " 6626,\n",
       " 6548,\n",
       " 4335]"
      ]
     },
     "execution_count": 10,
     "metadata": {},
     "output_type": "execute_result"
    }
   ],
   "source": [
    "manager.search(\"نیمه شعبان\")"
   ]
  },
  {
   "cell_type": "code",
   "execution_count": 5,
   "metadata": {},
   "outputs": [
    {
     "data": {
      "text/plain": [
       "[5619,\n",
       " 3666,\n",
       " 5236,\n",
       " 6208,\n",
       " 7123,\n",
       " 6177,\n",
       " 3665,\n",
       " 6791,\n",
       " 3360,\n",
       " 6475,\n",
       " 4438,\n",
       " 7101,\n",
       " 6626,\n",
       " 6548,\n",
       " 4335]"
      ]
     },
     "execution_count": 5,
     "metadata": {},
     "output_type": "execute_result"
    }
   ],
   "source": [
    "manager.search(\"نیمه شعبان\")"
   ]
  },
  {
   "cell_type": "code",
   "execution_count": 14,
   "metadata": {},
   "outputs": [],
   "source": [
    "manager.add_document_to_indexes(\"./data/Add.xml\", 7157)"
   ]
  },
  {
   "cell_type": "code",
   "execution_count": 11,
   "metadata": {},
   "outputs": [
    {
     "data": {
      "text/plain": [
       "[7157]"
      ]
     },
     "execution_count": 11,
     "metadata": {},
     "output_type": "execute_result"
    }
   ],
   "source": [
    "manager.search({Fields.TITLE: '\"آقا علیرضا\"'})"
   ]
  },
  {
   "cell_type": "code",
   "execution_count": 12,
   "metadata": {},
   "outputs": [],
   "source": [
    "manager.delete_document_from_indexes(\"./data/Add.xml\", 7157)"
   ]
  },
  {
   "cell_type": "code",
   "execution_count": 15,
   "metadata": {},
   "outputs": [
    {
     "name": "stdout",
     "output_type": "stream",
     "text": [
      "\n",
      "        Document ID: 7157\n",
      "        Title Positions: [0]\n",
      "        Text Positions: [0]\n",
      "        \n"
     ]
    }
   ],
   "source": [
    "print(manager.corpus_index.index[\"آقا\"].posting_list[-1])"
   ]
  },
  {
   "cell_type": "code",
   "execution_count": 16,
   "metadata": {},
   "outputs": [
    {
     "data": {
      "text/plain": [
       "{<Fields.TEXT: 'text'>: 62, <Fields.TITLE: 'title'>: 1}"
      ]
     },
     "execution_count": 16,
     "metadata": {},
     "output_type": "execute_result"
    }
   ],
   "source": [
    "manager.corpus_index.index[\"آقا\"].doc_frequency"
   ]
  },
  {
   "cell_type": "code",
   "execution_count": 17,
   "metadata": {},
   "outputs": [],
   "source": [
    "from src.metrics import (\n",
    "    f_measure,\n",
    "    precision,\n",
    "    r_precision,\n",
    "    recall,\n",
    "    ndcg_at_k,\n",
    "    average_precision,\n",
    "    evaluate_search_engine,\n",
    ")"
   ]
  },
  {
   "cell_type": "code",
   "execution_count": 22,
   "metadata": {},
   "outputs": [
    {
     "name": "stdout",
     "output_type": "stream",
     "text": [
      "r_precision: 0.6105804602529432\n",
      "ndcg: 0.6787020126128037\n",
      "f_measure: 0.6279770638289564\n",
      "map: 0.7569273771354816\n"
     ]
    }
   ],
   "source": [
    "evaluate_search_engine(manager, Methods.LTN_LNN)"
   ]
  }
 ],
 "metadata": {
  "kernelspec": {
   "display_name": "Python 3",
   "language": "python",
   "name": "python3"
  },
  "language_info": {
   "codemirror_mode": {
    "name": "ipython",
    "version": 3
   },
   "file_extension": ".py",
   "mimetype": "text/x-python",
   "name": "python",
   "nbconvert_exporter": "python",
   "pygments_lexer": "ipython3",
   "version": "3.7.3"
  }
 },
 "nbformat": 4,
 "nbformat_minor": 4
}
