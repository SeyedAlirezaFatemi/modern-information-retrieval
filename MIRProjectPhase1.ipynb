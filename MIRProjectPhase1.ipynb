{
  "nbformat": 4,
  "nbformat_minor": 0,
  "metadata": {
    "celltoolbar": "Slideshow",
    "kernelspec": {
      "display_name": "Python 3",
      "language": "python",
      "name": "python3"
    },
    "language_info": {
      "codemirror_mode": {
        "name": "ipython",
        "version": 3
      },
      "file_extension": ".py",
      "mimetype": "text/x-python",
      "name": "python",
      "nbconvert_exporter": "python",
      "pygments_lexer": "ipython3",
      "version": "3.7.4"
    },
    "colab": {
      "name": "MIRProjectPhase1Spring99_ژخحغ.ipynb",
      "provenance": [],
      "collapsed_sections": []
    }
  },
  "cells": [
    {
      "cell_type": "markdown",
      "metadata": {
        "id": "WTWsrYobJnd3",
        "colab_type": "text"
      },
      "source": [
        "<div style=\"direction:rtl;line-height:300%;\"><font face=\"XB Zar\" size=5>\n",
        "<div align=center>\n",
        "<font face=\"B Titr\" size=30>\n",
        "<p></p><p></p>\n",
        "به نام خدا\n",
        "<p></p>\n",
        "</font>\n",
        "<p></p>\n",
        "<img src=\"Images/sharif.png\" width=\"25%\">\n",
        "<font color=blue>\n",
        "<br>\n",
        "درس بازیابی پیشرفته اطلاعات\n",
        "<br>\n",
        "مدرس: دکتر سلیمانی\n",
        "</font>\n",
        "<p></p>\n",
        "<font color=green>\n",
        "فاز اول پروژه - سیستم بازیابی اطلاعات داده‌های ویکی‌پدیای فارسی\n",
        "</font>\n",
        "<p></p>\n",
        "<font color=#FF7500>\n",
        "بهار ۹۹\n",
        "<br>\n",
        "دانشگاه صنعتی شریف\n",
        "<br>\n",
        "دانشکده مهندسی کامپیوتر\n",
        "</font>\n",
        "</div>\n",
        "</font>\n",
        "</div>"
      ]
    },
    {
      "cell_type": "markdown",
      "metadata": {
        "id": "BXCFFyc8Jnd7",
        "colab_type": "text"
      },
      "source": [
        "<div style=\"direction:rtl;line-height:300%;text-align:justify;\" align=\"justify\"><font face=\"XB Zar\" size=5>\n",
        "<font color=red size=7>\n",
        "<p></p>\n",
        "<div align=center>مقدمه </div>\n",
        "</font>\n",
        "<hr>\n",
        "در فاز اول پروژه درس بازیابی پیشرفته اطلاعات، شما باید سیستم بازیابی اطلاعات را برای مجموعه داده‌های ویکی پدیای فارسی پیاده سازی کنید. بدین صورت که مجموعه داده‌هایی که در اختیارتان قرار داده شده را پس از پردازش اولیه و نمایه‌سازی، آماده جستجو عبارات در آن کنید. سعی شده‌است که امکانات خواسته شده در این سیستم متناسب با جست‌وجو‌های کاربردی بر روی داده‌ها باشد.\n",
        "<br>\n",
        "پروژه از ۴ بخش تشکیل شده،‌ بخش اول آن آماده‌سازی اولیه داده‌هاست. پیشنهاد می شود برای پیاده‌سازی این بخش از کتابخانه هضم که توضیحات استفاده از آن در \n",
        "<a href=\"http://www.sobhe.ir/hazm/\">این صفحه</a>\n",
        "آمده است، استفاده کنید. بخش دوم، طراحی و پیاده‌سازی نمایه‌ساز برای داده‌هاست که با گرفتن داده‌های ورودی، نمایه‌ها و داده‌ساختار‌های مورد نیاز برای جستجو اسناد و دیگر نیازمندی‌های سیستم را تولید می‌کند. در بخش سوم می‌بایست امکان جستجو بر روی داده‌ساختار خروجی بخش قبلی را براساس مدل فضای برداری فراهم کنید. در این قسمت عبارت مورد جستجو در صورت دارا بودن غلط املایی باید اصلاح شود. در بخش آخر نیز با استفاده از پرسمان‌ها و اسنادی که به عنوان اسناد مرتبط به آن پرسمان معرفی شده، می‌بایست سیستم بازیابی خود را با استفاده از ۴ معیار ذکر شده در این بخش\n",
        "ارزیابی کنید.\n",
        "<br>\n",
        "در این دفترچه جوپیتر برای هر یک از چهار بخش پروژه، قسمت مجزایی در نظر گرفته شده‌است. شما باید کدهای خود را طوری بزنید که این بخش‌ها طبق توضیح به تفضیل آمده در هر بخش، به درستی کار کنند. کد‌های خود را می‌توانید در بخش‌های اضافه شده توسط خودتان در همین دفترچه جوپیتر بنویسید یا فایل‌های پایتون مربوط به پیاده‌سازی خود را در کنار دفترچه گذاشته و در بخش‌های مختلف این دفترچه بااستفاده از \n",
        "import\n",
        "مناسب از کد‌هایتان استفاده کنید.\n",
        "<br>\n",
        "در نهایت توجه کنید که دو بخش از این فاز پروژه به عنوان قسمت امتیازی برای شما در نظر گرفته شده. در این سند، بخش‌های امتیازی با علامت (*امتیازی*) مشخص شده‌اند. هر کدام از این بخش ها 10 نمره دارند.\n",
        "</font></div>"
      ]
    },
    {
      "cell_type": "markdown",
      "metadata": {
        "id": "3-nJxAxdJnd8",
        "colab_type": "text"
      },
      "source": [
        "<div style=\"direction:rtl;line-height:300%;text-align:justify\"><font face=\"XB Zar\" size=5>\n",
        "<font color=red size=7>\n",
        "<p></p>\n",
        "<div align=center>مجموعه دادگان</div>\n",
        "</font>\n",
        "<hr>\n",
        "مجموعه دادگان مورد استفاده در این پروژه از جمع آوری اطلاعات موجود در صفحات ویکی پدیای فارسی به وجود آمده است.\n",
        "این مجموعه اسناد از دو بخش تشکیل شده است\n",
        ".\n",
        "<br>\n",
        "بخش اول که در فایل \n",
        "Persian.xml\n",
        "آمده است، شامل ۱۵۰۰ سند می‌باشد.\n",
        "هر سند شامل شناسه\n",
        "(id)،\n",
        "عنوان\n",
        "(title)،   \n",
        "و متن \n",
        "(text)\n",
        "است.\n",
        "بخش دوم که در پوشه‌ی \n",
        "queries\n",
        "آمده‌است، شامل تعدادی پرسمان است که برای سنجش سیستم‌ پیاده سازی شده‌ی شما مورد استفاده قرار خواهد گرفت.\n",
        "بخش سوم که در پوشه‌ی\n",
        "relevance\n",
        "آمده‌است،\n",
        "شامل یک فایل است که شناسه سند‌های مرتبط با هر پرسمان در آن آمده‌است.\n",
        "</font></div>"
      ]
    },
    {
      "cell_type": "markdown",
      "metadata": {
        "id": "avT4ky8EJnd-",
        "colab_type": "text"
      },
      "source": [
        "<div style=\"direction:rtl;line-height:300%;text-align:justify;\" align=\"justify\" ><font face=\"XB Zar\" size=5>\n",
        "<font color=red size=7>\n",
        "<p></p>\n",
        "<div align=center>(10 نمره) بخش اول: آماده‌سازی اولیه داده‌ها</div>\n",
        "</font>\n",
        "<hr>\n",
        "هدف از این بخش اعمال عملیات متنی اولیه بر روی متن خام ورودی است تا کلمات به شکل مناسب برای قرارگیری در نمایه استخراج شوند. برای تسهیل این بخش شما می‌توانید از توابع کتابخانه‌ی هضم که توضیح استفاده از آن در \n",
        "<a href=\"http://www.sobhe.ir/hazm/\">این صفحه</a>\n",
        "آمده است استفاده‌ نمایید. همین طور در صورت نیاز به توضیحات بیشتر در خصوص این کتاب‌خانه می‌توانید به توضیحات مربوط به پروژه‌ی سه سال قبل از طریق\n",
        "<a href=\"http://ce.sharif.edu/courses/95-96/1/ce324-1/assignments/files/assignDir/MIR_Project1.pdf\">این صفحه</a>\n",
        "مراجعه کنید.\n",
        "<br>\n",
        "<br>\n",
        "عملیات مورد انتظار:\n",
        "<ol>\n",
        "    <li>\n",
        "یکسان‌سازی متن: یکی از عملیات مهم در پردازش متون به خصوص در زبان فارسی این عملیات\n",
        "است که شامل یکسان‌سازی استفاده از فاصله و نیم‌فاصله و نحوه‌ی شکستن یا ادغام کلمات و ... است.  به طور مثال، یک مورد از این یکسان‌سازی‌ها نحوه‌ی قرار گیری حرف جمع «ها» در انتهای کلمات جمع است که می‌تواند بدون فاصله چسبیده به کلمه، با یک فاصله‌ی کامل و یا با نیم‌فاصله\n",
        "پس از کلمه بیاید (کتابها، کتاب ها، کتاب‌ها)\n",
        "    </li>\n",
        "    <li> \n",
        "جدا کردن کلمات یک جمله: واحد متن مورد استفاده‌ی ما در ساخت نمایه و همین طور جست‌وجو در یک سیستم اطلاعاتی کلمات هستند. بنابر این جملات ورودی را باید بتوانیم به کلمات آن بشکنیم  و عملیات مورد نیاز را بر روی کلمات انجام دهیم.\n",
        "    </li>\n",
        "    <li>\n",
        "حذف علائم نگارشی: علائم نگارشی مانند نقطه، ویرگول، و ... باید از درون اسناد حذف شوند تا درون نمایه و جست‌وجو‌ها تاثیر نگذارند.\n",
        "    </li>\n",
        "<li>\n",
        "بازگرداندن کلمات به ریشه: عملیات دیگری که روی کلمات متن صورت میگیرد عمل بازگردانی به\n",
        "ریشه\n",
        "(stemming)\n",
        "است تا کلماتی که از یک ریشه هستند همگی یک کلمه به حساب بیاید.\n",
        "    </li>\n",
        "</ol>\n",
        "</font></div>"
      ]
    },
    {
      "cell_type": "markdown",
      "metadata": {
        "id": "jzEhdYtzJnd_",
        "colab_type": "text"
      },
      "source": [
        "<div style=\"direction:rtl;line-height:300%;text-align:justify;\" align=\"justify\"><font face=\"XB Zar\" size=5>\n",
        "در این بخش که برای آماده‌سازی اولیه متن داده‌هاست، تابع \n",
        "prepare_text\n",
        "باید طوری بر روی متن ورودی با نام\n",
        "raw_text\n",
        "عمل کند که\n",
        "عملیات‌های مورد انتظار ذکر شده روی متن انجام شود و متن آماده‌شده به عنوان خروجی تابع برگردانده شود. \n",
        "</font>\n",
        "</div>"
      ]
    },
    {
      "cell_type": "code",
      "metadata": {
        "id": "fZ98SbQMJneB",
        "colab_type": "code",
        "colab": {}
      },
      "source": [
        "def prepare_text(raw_text):\n",
        "    prepared_text = raw_text\n",
        "    #TODO\n",
        "    return prepared_text\n",
        "\n",
        "print('Enter text:')\n",
        "raw_text = input()\n",
        "print(prepare_text(raw_text))"
      ],
      "execution_count": 0,
      "outputs": []
    },
    {
      "cell_type": "markdown",
      "metadata": {
        "collapsed": true,
        "id": "mlwmeLaQJneG",
        "colab_type": "text"
      },
      "source": [
        "<div style=\"direction:rtl;line-height:300%;text-align:justify;\" align=\"justify\"><font face=\"XB Zar\" size=5>\n",
        "<font color=red size=7>\n",
        "<p></p>\n",
        "<div align=center> (30 نمره) بخش دوم: ساخت نمایه</div>\n",
        "</font>\n",
        "<hr>\n",
        "در این بخش شما باید نمایه‌گذاری‌های مورد نیاز برای بخش جست‌وجو را انجام دهید. تمامی نمایه‌ها باید به صورت پویا باشند به این معنی که با حذف و یا اضافه کردن سندی در طول اجرای برنامه، سند از نمایه حذف شده و یا به آن اضافه شود. \n",
        "<br>\n",
        "شرح نمایه‌های مورد انتظار:\n",
        "<br>\n",
        "<ol>\n",
        "<li>\n",
        "با توجه به مواردی که در بخش بعد می‌آید و نیاز به جست‌وجو‌ی مجزا و با امتیازدهی متفاوت بر روی بخش‌های مختلف سند مثل عنوان یا متن آن، در این قسمت بایستی نمایه‌ی مناسب برای امکان جست‌وجو‌ در بخش‌های مختلف را پیاده‌سازی کنید. با استفاده از نمایه‌ی ساخته‌شده باید بتوان شماره تمامی اسنادی که یک کلمه در آن آمده است و همچنین همه جایگاه‌های این کلمه در هر بخش هر سند را پیدا کرد. انتخاب داده‌ساختار مناسب برای ذخیره نمایه بر عهده خودتان است\n",
        "(البته روش استفاده شده باید مبتنی بر موارد معرفی شده در کلاس باشد.).\n",
        "همچنین باید قادر باشید نمایه‌ها را در فایلی ذخیره کرده و از فایل ذخیره شده بازیابی کنید\n",
        "</li>\n",
        "<li>\n",
        "(*امتیازی*)\n",
        "نمایه‌ی \n",
        "Bigram: \n",
        "با استفاده از این نمایه می‌توان با دادن یک \n",
        "Bigram\n",
        "(ترکیب‌های دو حرفی) \n",
        "تمامی کلمات موجود در لغتنامه که این ترکیب در آنها موجود است را دریافت کرد. این نمایه برای قسمت اصلاح پرسمان که در بخش بعد توضیح داده خواهد شد، مورد استفاده قرار خواهد گرفت. توجه کنید که با حذف یک سند، تمامی کلمات موجود در آن از لغتنامه حذف نمی‌شوند زیرا ممکن است که آن کلمه در سند دیگری نیز آمده باشد. حذف یک کلمه را در صورتی انجام دهید که لیست آن در نمایه‌ی قسمت قبل خالی شده باشد.\n",
        "</li>\n",
        "</ol>\n",
        "</font></div>"
      ]
    },
    {
      "cell_type": "markdown",
      "metadata": {
        "id": "vjpoyRv9JneH",
        "colab_type": "text"
      },
      "source": [
        " < d (30 نمره)   iv style=\"direction:rtl;line-height:300%;text-align:justify;\" align=\"justify\"><font face=\"XB Zar\" size=5>\n",
        "این بخش مربوط به ساخت نمایه‌هاست. تابع \n",
        "construct_indexes\n",
        "با گرفتن مسیر مجموعه‌داده‌ها\n",
        "اقدام به ساختن دو نمایه‌ی شرح داده‌شده می‌کند.\n",
        "</font>\n",
        "</div>"
      ]
    },
    {
      "cell_type": "code",
      "metadata": {
        "id": "X_akK-pvJneI",
        "colab_type": "code",
        "colab": {}
      },
      "source": [
        "def construct_positional_indexes(docs_path):\n",
        "    # TODO \n",
        "    pass\n",
        "\n",
        "construct_positional_indexes('data/wiki')"
      ],
      "execution_count": 0,
      "outputs": []
    },
    {
      "cell_type": "markdown",
      "metadata": {
        "id": "51VMBVg3JneM",
        "colab_type": "text"
      },
      "source": [
        "<div style=\"direction:rtl;line-height:300%;text-align:justify;\" align=\"justify\"><font face=\"XB Zar\" size=5>\n",
        "این بخش برای مشاهده \n",
        "posting list\n",
        "یک کلمه و جایگاه‌های کلمه در هر بخش سند (عنوان و متن) است. تابع\n",
        "get_posting_list\n",
        "با گرفتن\n",
        "word\n",
        "به عنوان کلمه ورودی، یک دیکشنری به عنوان خروجی بر می‌گرداند که کلید‌های دیکشنری شناسه سند‌هایی است که کلمه در آن وجود داشته‌است.\n",
        "    برای هر شناسه سند آمده در کلید‌های دیکشنری، یک دیکشنری به عنوان مقدار وجود خواهد داشت که کلید‌های آن می‌تواند \n",
        "title\n",
        "و\n",
        "text\n",
        "باشد که جایگاه‌های آمدن کلمه در بخش‌های عنوان و متن به صورت لیست به عنوان مقدار هر یک از این کلید‌ها می‌آید. به طور مثال اگر یک کلمه مثل «سلام» در سند‌۱۰ در جایگاه ۲ عنوان و جایگاه‌های ۴ و ۸ متن و در سند ۲۹ در جایگاه ۱۹ متن آمده باشد دیکشنری به صورت آمده در قطعه کد زیر خواهد بود\n",
        "</font>\n",
        "</div>"
      ]
    },
    {
      "cell_type": "code",
      "metadata": {
        "id": "VLnvKnQ0JneN",
        "colab_type": "code",
        "colab": {}
      },
      "source": [
        "def get_posting_list(word):\n",
        "    posting_list = {10: {'title': [2], 'text': [4, 8]}, 29: {'text': [19]}}\n",
        "    # TODO \n",
        "    return posting_list\n",
        "\n",
        "get_posting_list('سلام')"
      ],
      "execution_count": 0,
      "outputs": []
    },
    {
      "cell_type": "markdown",
      "metadata": {
        "id": "__qCYhAsJneS",
        "colab_type": "text"
      },
      "source": [
        "<div style=\"direction:rtl;line-height:300%;text-align:justify;\" align=\"justify\"><font face=\"XB Zar\" size=5>\n",
        "(*امتیازی*)\n",
        "این بخش برای مشاهده تمام کلماتی است که دارای یک دوحرفی خاص درون خود هستند. تابع \n",
        "get_words_with_bigram\n",
        "یک ورودی به عنوان\n",
        "bigram\n",
        "می‌گیرد و تمام کلماتی را که دارای این دو حرفی هستند به عنوان خروجی بر می‌گرداند.\n",
        "</font>\n",
        "</div>"
      ]
    },
    {
      "cell_type": "code",
      "metadata": {
        "id": "p6qxX9KAJneT",
        "colab_type": "code",
        "colab": {}
      },
      "source": [
        "def get_words_with_bigram(bigram):\n",
        "    words = ['سلام', 'کلام', 'اصلاح', 'اطلاعات']\n",
        "    # TODO\n",
        "    return words\n",
        "\n",
        "get_words_with_bigram('لا')\n",
        "    "
      ],
      "execution_count": 0,
      "outputs": []
    },
    {
      "cell_type": "markdown",
      "metadata": {
        "id": "_Rz7JnPLJneY",
        "colab_type": "text"
      },
      "source": [
        "<div style=\"direction:rtl;line-height:300%;text-align:justify;\" align=\"justify\"><font face=\"XB Zar\" size=5>\n",
        "این بخش برای اضافه کردن یک سند به نمایه‌ها است.\n",
        "تابع\n",
        "add_document_to_indexes\n",
        "با گرفتن مسیر پوشه داده‌ها و یک شناسه،\n",
        "در صورت نبود آن سند در نمایه‌ها، آن را به نمایه‌ها اضافه می‌کند.\n",
        "</font>\n",
        "</div>"
      ]
    },
    {
      "cell_type": "code",
      "metadata": {
        "id": "z3V8mUFHJneZ",
        "colab_type": "code",
        "colab": {}
      },
      "source": [
        "def add_document_to_indexes(docs_path, doc_num):\n",
        "    # TODO \n",
        "    pass\n",
        "\n",
        "add_document_to_indexes('data/wiki', 20)"
      ],
      "execution_count": 0,
      "outputs": []
    },
    {
      "cell_type": "markdown",
      "metadata": {
        "id": "fI62QI7FJnec",
        "colab_type": "text"
      },
      "source": [
        "<div style=\"direction:rtl;line-height:300%;text-align:justify;\" align=\"justify\"><font face=\"XB Zar\" size=5>\n",
        "این بخش برای حذف کردن یک سند از نمایه است.\n",
        "تابع\n",
        "delete_document_from_indexes\n",
        "با گرفتن مسیر پوشه داده‌ها و یک شناسه سند، آن سند را از نمایه‌ها حذف می‌کند.\n",
        "در صورتی که پس از حذف یک سند، \n",
        "یک کلمه دیگر در بین محتوای سند‌ها وجود نداشته‌باشد، آن کلمه باید از دیکشنری نمایه‌ی اصلی \n",
        "به طور کامل حذف شود.\n",
        "</font>\n",
        "</div>"
      ]
    },
    {
      "cell_type": "code",
      "metadata": {
        "id": "DJ_8rPAxJneg",
        "colab_type": "code",
        "colab": {}
      },
      "source": [
        "def delete_document_from_indexes(docs_path, doc_num):\n",
        "    pass\n",
        "\n",
        "delete_document_from_indexes('data/wiki', 10)"
      ],
      "execution_count": 0,
      "outputs": []
    },
    {
      "cell_type": "markdown",
      "metadata": {
        "id": "QL-19qvrJnek",
        "colab_type": "text"
      },
      "source": [
        "<div style=\"direction:rtl;line-height:300%;text-align:justify;\" align=\"justify\"><font face=\"XB Zar\" size=5>\n",
        "این بخش برای ذخیره‌سازی نمایه‌ی اول است\n",
        "و نیازی به ذخیره‌سازی نمایه \n",
        "Bigram نیست \n",
        ".\n",
        "تابع \n",
        "save_index\n",
        "گرفتن مسیر فایل ذخیره کردن نمایه با نام \n",
        "destination\n",
        "نمایه ساخته‌شده را در این مسیر ذخیره می‌کند.\n",
        "</font>\n",
        "</div>"
      ]
    },
    {
      "cell_type": "code",
      "metadata": {
        "id": "UestOXpOJnel",
        "colab_type": "code",
        "colab": {}
      },
      "source": [
        "def save_index(destination):\n",
        "    # TODO\n",
        "    pass\n",
        "\n",
        "save_index('storage/index_backup')"
      ],
      "execution_count": 0,
      "outputs": []
    },
    {
      "cell_type": "markdown",
      "metadata": {
        "id": "dPL51GrmJnep",
        "colab_type": "text"
      },
      "source": [
        "<div style=\"direction:rtl;line-height:300%;text-align:justify;\" align=\"justify\"><font face=\"XB Zar\" size=5>\n",
        "این بخش برای بارگذاری نمایه از یک فایل است. تابع \n",
        "load_index\n",
        "با گرفتن مسیر فایل ذخیره شده نمایه با نام \n",
        "source\n",
        "نمایه را از این فایل بارگذاری می‌کند.\n",
        "</font>\n",
        "</div>"
      ]
    },
    {
      "cell_type": "code",
      "metadata": {
        "id": "ahonOMFMJneq",
        "colab_type": "code",
        "colab": {}
      },
      "source": [
        "def load_index(source):\n",
        "    # TODO\n",
        "    pass\n",
        "\n",
        "load_index('storage/index_backup')"
      ],
      "execution_count": 0,
      "outputs": []
    },
    {
      "cell_type": "markdown",
      "metadata": {
        "id": "C5JeSxd2Jnet",
        "colab_type": "text"
      },
      "source": [
        "<div style=\"direction:rtl;line-height:300%;text-align:justify;\" align=\"justify\"><font face=\"XB Zar\" size=5>\n",
        "<font color=red size=7>\n",
        "<p></p>\n",
        "<div align=center> (40 نمره) بخش سوم: جستجو وبازیابی اسناد</div>\n",
        "</font>\n",
        "<hr>\n",
        "در این قسمت لازم است تا پرسمانی که از کاربر گرفته می‌شود در مجموعه اسناد نمایه شده، جستجو شود. جستجو به دو صورت بازیابی ترتیب دار در فضای برداری و بازیابی دقیق عبارت است. جستجو باید هم در عنوان سند صورت بگیرد هم در متن آن و در نهایت ترتیب اسناد بازگردانده شده بر اساس امتیازی‌ است که از جمع وزن‌دار امتیاز جست‌وجو در عنوان و جست‌وجو در متن به دست آمده‌است.\n",
        "(*امتیازی*)\n",
        "همچنین گاهی ممکن است پرسمان ارائه شده حاوی غلط املایی باشد، در این صورت لازم است تا ابتدا پرسمان را اصلاح کنید و سپس جستجو انجام شود. \n",
        "<br>\n",
        "<br>\n",
        "<font color=red size=6>\n",
        "(*امتیازی*)\n",
        "اصلاح پرسمان\n",
        "</font>\n",
        "<br>\n",
        "اصلاح پرسمان ورودی: ممکن است پرسمان ورودی\n",
        "کاربر غلط املایی داشته باشد؛ در چنین مواردی برای هر لغت از پرسمان ورودی که در نمایه موجود  نیست ابتدا نزدیکترین لغات موجود در نمایه \n",
        "bigram\n",
        "(با استفاده از معیار فاصله جاکارد) \n",
        "انتخاب شده و سپس\n",
        "بهترین آنها با معیار \n",
        "edit distance\n",
        "نسبت به کلمه اصلی، جایگزین می‌شود. در صورتی که چند لغت فاصله برابری از لغت مورد نظر داشته باشند، می‌توانید یکی از آنها را به دلخواه انتخاب کنید.\n",
        "<br>\n",
        "<br>\n",
        "<font color=red size=6>\n",
        "بازیابی ترتیب دار در فضای برداری tf-idf به روشهای ltn-lnn و ltc-lnc\n",
        "</font>\n",
        "<br>\n",
        " در این بخش پرسمان به صورت یک پرسمان کلی مطرح می‌شود و جست‌وجوی یک پرسمان بر روی هر دو بخش عنوان و متن صورت می‌گیرد و سپس نتیجه بر اساس امتیاز وزن‌دار جست و جو بر روی این دو بخش به ترتیب برگردانده می‌شود. وزن امتیاز جست‌وجو در عنوان نسبت به وزن امتیاز جست‌وجو در متن باید به عنوان پارامتر ورودی قابل تنظیم باشد اما در حالت پیش‌فرض آن را ۲ در نظر می‌گیریم. \n",
        "<br>\n",
        "برای هر پرسمان، پس از مشخص شدن روش امتیازدهی به عنوان ورودی\n",
        "(ltn-lnn\n",
        "و\n",
        "ltc-lnc)\n",
        "شما باید لیستی مرتب از شناسه اسناد بر اساس امتیاز کسب شده برگردانید که امتیازات بر اساس توضیحات بالا باید محاسبه شوند.\n",
        "<br>\n",
        "<br>\n",
        "<font color=red size=6>\n",
        "جستجوی دقیق \n",
        "(phrasal search)\n",
        "</font>\n",
        "<br>\n",
        "این نوع جست‌وجو در قالب جست‌وجو‌های ترتیب‌دار قسمت قبل استفاده می‌شود. به این ترتیب که \n",
        "پرسمان ورودی ممکن است شامل تعدادی لغت و عبارات داخل گیومه باشد. اسناد بازیابی شده می‌بایست شامل عبارات داخل گیومه دقیقا به همان ترتیب و شکل آمده داخل گیومه باشند. \n",
        "<br>\n",
        "در صورت وجود چند عبارت داخل گیومه در پرسمان، ترتیب عبارات آمده داخل چند گیومه نسبت به هم لزومی ندارد حفظ شود. به \n",
        "عنوان نمونه برای پرسمان\n",
        "<br>\n",
        "\"q5 q4\" q3 \"q2 q1\"\n",
        "<br>\n",
        "سند\n",
        "<br>\n",
        "q3 q2 q1 q5 q4\n",
        "<br>\n",
        "مرتبط محسوب می‌شود. \n",
        "<br>\n",
        "جست‌وجو باید به این صورت باشد که ابتدا مجموعەی تمامی اسناد دارای عبارت‌های داخل گیومه پیدا می‌شود و سپس با استفاده از تمام لغات داخل پرسمان (شامل لغات داخل گیومه) بازیابی ترتیب دار با توضیحات آمده در قسمت قبل انجام شود.\n",
        "</font></div>"
      ]
    },
    {
      "cell_type": "markdown",
      "metadata": {
        "id": "8UnpNX56Jneu",
        "colab_type": "text"
      },
      "source": [
        "<div style=\"direction:rtl;line-height:300%;;text-align:justify;\" align=\"justify\"><font face=\"XB Zar\" size=5>\n",
        "(*امتیازی*)\n",
        "این بخش برای اصلاح پرسمان‌های ورودی است. تابع \n",
        "correct_query\n",
        "پرسمان کاربر  \n",
        "(query)\n",
        "را به عنوان ورودی می‌گیرد و در صورتی که کلماتی در پرسمان داخل واژه‌نامه‌ی نمایه وجود نداشته باشد آن کلمات را به شکل توضیح داده‌شده در بخش اصلاح پرسمان، با کلمات نزدیک به آن در واژه‌نامه جایگزین می‌کند و پرسمان اصلاح‌شده را برمی‌گرداند.\n",
        "</font>\n",
        "</div>"
      ]
    },
    {
      "cell_type": "code",
      "metadata": {
        "id": "X5kybrGDJnev",
        "colab_type": "code",
        "colab": {}
      },
      "source": [
        "def correct_query(query):\n",
        "    correct_query = \"سلام حالا پرسمان درست شد.\"\n",
        "    return correct_query\n",
        "\n",
        "correct_query(\"شلام حالا برسهان درسک شد\")"
      ],
      "execution_count": 0,
      "outputs": []
    },
    {
      "cell_type": "markdown",
      "metadata": {
        "id": "T9HMqDMZJney",
        "colab_type": "text"
      },
      "source": [
        "<div style=\"direction:rtl;line-height:300%;;text-align:justify;\" align=\"justify\"><font face=\"XB Zar\" size=5>\n",
        "این بخش به جست و جوی پرسمان کلی اختصاص دارد. تابع \n",
        "search\n",
        "به عنوان اولین پارامتر پرسمان \n",
        "(query)\n",
        "را گرفته و جست و جو را روی آن انجام می‌دهد.\n",
        "در صورتی که درون پرسمان بخشی داخل\n",
        "\"\"\n",
        "قرار گیرد به این معنی است که آن بخش باید به صورت جست‌وجوی دقیق در جست‌وجو در نظر گرفته‌شود. \n",
        "پارامتر دوم ورودی روش محاسبه امتیاز \n",
        "(method)\n",
        "است که می‌تواند یکی از دو مقدار\n",
        "ltn-lnn\n",
        "و\n",
        "ltc-lnc\n",
        "را بپذیرد که به طور پیش‌فرض مقدار اول را می‌پذیرد.\n",
        "پارامتر سوم \n",
        "(weight)\n",
        "که یک عدد اعشاری است نسبت وزن امتیاز جست‌وجو در عنوان به امتیاز جست‌وجو در متن را مشخص می‌کند. که به طور پیش‌فرض این مقدار برابر ۲ است. \n",
        "</font>\n",
        "</div>"
      ]
    },
    {
      "cell_type": "code",
      "metadata": {
        "id": "qsgz32PDJnez",
        "colab_type": "code",
        "outputId": "b3b6ed43-794b-42e1-bc03-ee3e0134318b",
        "colab": {}
      },
      "source": [
        "def search(query, method=\"ltn-lnn\", weight=2):\n",
        "    relevant_docs = []\n",
        "    return relevant_docs\n",
        "\n",
        "search('\"نظرخواهی انجام شده توسط دانشگاه \"شهر نیویورک', \"ltc-lnc\", 3)"
      ],
      "execution_count": 0,
      "outputs": [
        {
          "output_type": "stream",
          "text": [
            "\"نظرخواهی انجام شده توسط دانشگاه \"شهر نیویورک\n"
          ],
          "name": "stdout"
        },
        {
          "output_type": "execute_result",
          "data": {
            "text/plain": [
              "[]"
            ]
          },
          "metadata": {
            "tags": []
          },
          "execution_count": 6
        }
      ]
    },
    {
      "cell_type": "markdown",
      "metadata": {
        "id": "fTXhfuP0Jne5",
        "colab_type": "text"
      },
      "source": [
        "<div style=\"direction:rtl;line-height:300%;;text-align:justify;\" align=\"justify\"><font face=\"XB Zar\" size=5>\n",
        "این بخش به جست و جوی پرسمان بر اساس بخش اختصاص دارد. تابع \n",
        "detailed_search\n",
        "به عنوان دو پارامتر اول پرسمان بر روی عنوان \n",
        "(title_query)\n",
        "و پرسمان بر روی متن\n",
        "(text_query)\n",
        "را گرفته و جست و جو را روی آن‌ها انجام می‌دهد.\n",
        "در صورتی که درون پرسمان بخشی داخل\n",
        "\"\"\n",
        "قرار گیرد به این معنی است که آن بخش باید به صورت جست‌وجوی دقیق در جست‌وجو در نظر گرفته‌شود. \n",
        "پارامتر دوم ورودی روش محاسبه امتیاز \n",
        "(method)\n",
        "است که می‌تواند یکی از دو مقدار\n",
        "ltn-lnn\n",
        "و\n",
        "ltc-lnc\n",
        "را بپذیرد که به طور پیش‌فرض مقدار اول را می‌پذیرد. \n",
        "</font>\n",
        "</div>"
      ]
    },
    {
      "cell_type": "code",
      "metadata": {
        "id": "BmOjg1gYJne6",
        "colab_type": "code",
        "outputId": "88f5ed0f-3ac6-4bba-c148-8e7aa4de09c7",
        "colab": {}
      },
      "source": [
        "def detailed_search(title_query, text_query, method=\"ltn-lnn\"):\n",
        "    relevant_docs = []\n",
        "    #print(title_query)\n",
        "    #print(desc_query)\n",
        "    return relevant_docs\n",
        "\n",
        "detailed_search('عجایب هفت‌گانه', 'چشمگیرترین بناهای تاریخی جهان', \"ltc-lnc\")"
      ],
      "execution_count": 0,
      "outputs": [
        {
          "output_type": "execute_result",
          "data": {
            "text/plain": [
              "[]"
            ]
          },
          "metadata": {
            "tags": []
          },
          "execution_count": 2
        }
      ]
    },
    {
      "cell_type": "markdown",
      "metadata": {
        "id": "jpAO-xvEJne-",
        "colab_type": "text"
      },
      "source": [
        "<div style=\"direction:rtl;line-height:300%;text-align:justify;\" align=\"justify\"><font face=\"XB Zar\" size=5>\n",
        "<font color=red size=7>\n",
        "<p></p>\n",
        "<div align=center> (20 نمره) بخش چهارم: ارزیابی سیستم</div>\n",
        "</font>\n",
        "<hr>\n",
        "سیستم شما باید قادر باشد با استفاده از معیارهای\n",
        "<ol>\n",
        "<li>\n",
        "MAP\n",
        "</li>\n",
        "<li>\n",
        "F-Measure\n",
        "</li>\n",
        "<li>\n",
        "R-Precision\n",
        "</li>\n",
        "<li>\n",
        "NDCG\n",
        "</li>\n",
        "</ol>\n",
        "نتایج را ارزیابی کند. برای ارزیابی تعدادی پرسمان و نتایج آنها در اختیار شما قرار گرفته است که باید پاسخ سیستم‌تان به پرسمان ها را با نتایج متناظر هر پرسمان ارزیابی و مقایسه کنید. در صورتی که کل پرسمان در یک خط آمده بود به این معنی است که پرسمان کلی است و تابع\n",
        "search \n",
        "باید برای آن فراخوانی شود و در صورتی که پرسمان در  دو خط آمده بود، خط اول پرسمان عنوان و خط دوم پرسمان متن خواهد بود و باید تابع\n",
        "detailed_search\n",
        "را برای آن فراخوانی کنید و نتیجه را ارزیابی کنید.\n",
        "<br>\n",
        "توجه کنید که این چهار معیار را جداگانه و مستقل از بقیه نیز بتوانید حساب کنید. حداکثر سند بازیابی شده را ۱۵ قرار دهید.    \n",
        "<br>\n"
      ]
    },
    {
      "cell_type": "markdown",
      "metadata": {
        "id": "l52cf_R-Jne_",
        "colab_type": "text"
      },
      "source": [
        "<div style=\"direction:rtl;line-height:300%;text-align:justify;\" align=\"justify\"><font face=\"XB Zar\" size=5>\n",
        "در قطعه کد بخش زیر به ازای هر معیار یک تابع آمده است که به عنوان ورودی شماره پرسمان را می‌گیرد و با خواندن پرسمان و لیست مرتب سند‌های مرتبط با آن از فایل‌های مربوطه، جستجوی پرسمان را با توجه به نوع پرسمان انجام می‌دهد، نتیجه را ارزیابی کرده و مقدار محاسبه شده معیار را بر می‌گرداند.\n",
        "در صورتی که در ورودی به جای شماره پرسمان رشته‌ی\n",
        "all\n",
        "آمده بود ارزیابی باید بر روی تمامی اسناد صورت گیرد و میانگین مقادیر معیار ازیابی برای همه پرسمان‌ها به عنوان خروجی برگردانده شود.\n",
        "</font>\n",
        "</div>"
      ]
    },
    {
      "cell_type": "code",
      "metadata": {
        "id": "GqaOk4ESJnfA",
        "colab_type": "code",
        "colab": {}
      },
      "source": [
        "import glob\n",
        "\n",
        "def R_Precision(query_id='all'):\n",
        "    \n",
        "    # sample code for read query! You can change anyway\n",
        "    if query_id == 'all':\n",
        "        for file in glob.glob('../data/queries/*.txt'):\n",
        "            with open(file, 'r') as query_file:\n",
        "                print(query_file.read())\n",
        "    else:\n",
        "        with open('../data/queries/%s.txt'%(query_id,)) as query_file:\n",
        "            print(query_file.read())\n",
        "    # end of sample\n",
        "    \n",
        "    #TODO\n",
        "    \n",
        "    result = 0\n",
        "    return result\n",
        "\n",
        "def F_measure(query_id='all'):\n",
        "    \n",
        "    #TODO\n",
        "\n",
        "    result = 0\n",
        "    return result\n",
        "\n",
        "def MAP(query_id='all'):\n",
        "    \n",
        "    #TODO\n",
        "\n",
        "    result = 0\n",
        "    return result\n",
        "\n",
        "def NDCG(query_id='all'):\n",
        "    \n",
        "    #TODO\n",
        "\n",
        "    result = 0\n",
        "    return result\n",
        "\n",
        "\n",
        "R_Precision(1)\n",
        "F_measure()\n",
        "MAP(23)\n",
        "NDCG()"
      ],
      "execution_count": 0,
      "outputs": []
    },
    {
      "cell_type": "markdown",
      "metadata": {
        "id": "rUs450l5JnfD",
        "colab_type": "text"
      },
      "source": [
        "<div style=\"direction:rtl;line-height:300%;text-align:justify;\" align=\"justify\"><font face=\"XB Zar\" size=5>\n",
        "<font color=red size=7>\n",
        "<p></p>\n",
        "<div align=center>نکات پایانی</div>\n",
        "</font>\n",
        "<hr>\n",
        "۱- سیستم را به صورت بهینه پیاده سازی کنید تا در زمان کمتری بارگذاری و نمایه سازی و … را انجام دهد.\n",
        "<br>\n",
        "۲- فایل‌های \n",
        "ipynb\n",
        "و پایتون \n",
        "پاسخ تمرین را (بدون داده‌ها) به صورت فایل فشرده در کوئرا بارگذاری کنید.\n",
        "<br>\n",
        "۳- اشکالات خود از فاز اول پروژه را در زیر پست مربوط به این تمرین بپرسید.\n",
        "<br>\n",
        "۴- نام فایل ارسالی به صورت Project1-StudentNumber باشد.\n",
        "<br>\n",
        "۵- موعد تحویل تمرین تا ساعت ۲۳:۵۹ پانزدهم فروردین می‌باشد و جریمەی تأخیر مطابق با قوانینی که در سایت درس قرار داده شدەاست ، خواهد بود.\n",
        "<br>\n",
        "۶- در صورت مشاهده تقلب، طبق قوانین دانشکده با شما برخورد خواهد شد.\n",
        "<br>\n"
      ]
    },
    {
      "cell_type": "markdown",
      "metadata": {
        "id": "x2AOY8hCJnfE",
        "colab_type": "text"
      },
      "source": [
        "<div style=\"direction:rtl;line-height:300%;\"><font face=\"XB Zar\" size=5>\n",
        "<div align=center>\n",
        "<font face=\"B titr\" size=30>\n",
        "<p></p>\n",
        "<font color=#FF7500> \n",
        "موفق باشید\n",
        ":)\n",
        "<br>\n",
        "\n",
        "</font>\n",
        "</div>\n",
        "</font>\n",
        "</div>"
      ]
    }
  ]
}