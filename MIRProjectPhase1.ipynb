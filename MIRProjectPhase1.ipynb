{
 "cells": [
  {
   "cell_type": "code",
   "execution_count": null,
   "metadata": {},
   "outputs": [],
   "source": [
    "from src.models.TextPreparer import TextPreparer"
   ]
  },
  {
   "cell_type": "code",
   "execution_count": null,
   "metadata": {
    "colab": {},
    "colab_type": "code",
    "id": "fZ98SbQMJneB"
   },
   "outputs": [],
   "source": [
    "text_preprocessor = TextPreparer()\n",
    "\n",
    "\n",
    "def prepare_text(raw_text):\n",
    "    prepared_text = text_preprocessor.prepare_text(raw_text)\n",
    "    return prepared_text"
   ]
  },
  {
   "cell_type": "code",
   "execution_count": null,
   "metadata": {},
   "outputs": [],
   "source": [
    "from src.utils.construct_positional_indexes import construct_positional_indexes"
   ]
  },
  {
   "cell_type": "code",
   "execution_count": null,
   "metadata": {
    "colab": {},
    "colab_type": "code",
    "id": "X_akK-pvJneI"
   },
   "outputs": [],
   "source": [
    "manager = construct_positional_indexes()"
   ]
  },
  {
   "cell_type": "code",
   "execution_count": null,
   "metadata": {},
   "outputs": [],
   "source": [
    "from src.enums import *"
   ]
  },
  {
   "cell_type": "code",
   "execution_count": null,
   "metadata": {
    "colab": {},
    "colab_type": "code",
    "id": "VLnvKnQ0JneN"
   },
   "outputs": [],
   "source": [
    "def get_posting_list(word):\n",
    "    posting_list = manager.corpus_index.get_posting_list(word)\n",
    "    results = dict()\n",
    "    for posting_list_item in posting_list:\n",
    "        result = dict()\n",
    "        result[\"text\"] = posting_list_item.get_positions(Fields.TEXT)\n",
    "        result[\"title\"] = posting_list_item.get_positions(Fields.TITLE)\n",
    "        results[posting_list_item.doc_id] = result\n",
    "    return results\n",
    "\n",
    "\n",
    "get_posting_list(\"سلام\")"
   ]
  },
  {
   "cell_type": "code",
   "execution_count": null,
   "metadata": {},
   "outputs": [],
   "source": [
    "def get_words_with_bigram(bigram):\n",
    "    return manager.bigram_index.get_words_with_bigram(bigram)\n",
    "\n",
    "\n",
    "get_words_with_bigram(\"لا\")"
   ]
  },
  {
   "cell_type": "code",
   "execution_count": null,
   "metadata": {
    "colab": {},
    "colab_type": "code",
    "id": "z3V8mUFHJneZ"
   },
   "outputs": [],
   "source": [
    "def add_document_to_indexes(docs_path, doc_num):\n",
    "    manager.add_document_to_indexes(docs_path, doc_num)\n",
    "\n",
    "\n",
    "add_document_to_indexes(\"data/wiki\", 20)"
   ]
  },
  {
   "cell_type": "code",
   "execution_count": null,
   "metadata": {
    "colab": {},
    "colab_type": "code",
    "id": "DJ_8rPAxJneg"
   },
   "outputs": [],
   "source": [
    "def delete_document_from_indexes(docs_path, doc_num):\n",
    "    manager.delete_document_from_indexes(docs_path, doc_num)\n",
    "\n",
    "\n",
    "delete_document_from_indexes(\"data/wiki\", 10)"
   ]
  },
  {
   "cell_type": "code",
   "execution_count": null,
   "metadata": {
    "colab": {},
    "colab_type": "code",
    "id": "UestOXpOJnel"
   },
   "outputs": [],
   "source": [
    "def save_index(destination):\n",
    "    manager.save_index(destination)\n",
    "    pass\n",
    "\n",
    "\n",
    "save_index(\"storage/index_backup\")"
   ]
  },
  {
   "cell_type": "code",
   "execution_count": null,
   "metadata": {},
   "outputs": [],
   "source": [
    "from src.utils.load_index import load_index"
   ]
  },
  {
   "cell_type": "code",
   "execution_count": null,
   "metadata": {
    "colab": {},
    "colab_type": "code",
    "id": "ahonOMFMJneq"
   },
   "outputs": [],
   "source": [
    "manager = load_index(\"./manager.pickle\")"
   ]
  },
  {
   "cell_type": "code",
   "execution_count": null,
   "metadata": {
    "colab": {},
    "colab_type": "code",
    "id": "X5kybrGDJnev"
   },
   "outputs": [],
   "source": [
    "manager.correct_word(\"آقو\")"
   ]
  },
  {
   "cell_type": "code",
   "execution_count": null,
   "metadata": {
    "colab": {},
    "colab_type": "code",
    "id": "qsgz32PDJnez",
    "outputId": "b3b6ed43-794b-42e1-bc03-ee3e0134318b"
   },
   "outputs": [],
   "source": [
    "def search(query, method=\"ltn-lnn\", weight=2):\n",
    "    return manager.search(\n",
    "        query,\n",
    "        method=Methods(method),\n",
    "        field_weights={Fields.TEXT: 1.0, Fields.TITLE: weight},\n",
    "        max_retrieved=15,\n",
    "        correct_word=True,\n",
    "    )\n",
    "\n",
    "\n",
    "search('\"نظرخواهی انجام شده توسط دانشگاه \"شهر نیویورک', \"ltc-lnc\", 3)"
   ]
  },
  {
   "cell_type": "code",
   "execution_count": null,
   "metadata": {
    "colab": {},
    "colab_type": "code",
    "id": "BmOjg1gYJne6",
    "outputId": "88f5ed0f-3ac6-4bba-c148-8e7aa4de09c7"
   },
   "outputs": [],
   "source": [
    "def detailed_search(title_query, text_query, method=\"ltn-lnn\"):\n",
    "    return manager.search(\n",
    "        {Fields.TEXT: text_query, Fields.TITLE: title_query},\n",
    "        method=Methods(method),\n",
    "    )\n",
    "\n",
    "\n",
    "detailed_search(\"عجایب هفت‌گانه\", \"چشمگیرترین بناهای تاریخی جهان\", \"ltc-lnc\")"
   ]
  },
  {
   "cell_type": "code",
   "execution_count": null,
   "metadata": {},
   "outputs": [],
   "source": [
    "from src.metrics import evaluate_search_engine"
   ]
  },
  {
   "cell_type": "code",
   "execution_count": null,
   "metadata": {},
   "outputs": [],
   "source": [
    "evaluate_search_engine(manager, method=Methods.LTN_LNN)"
   ]
  },
  {
   "cell_type": "code",
   "execution_count": null,
   "metadata": {},
   "outputs": [],
   "source": []
  }
 ],
 "metadata": {
  "celltoolbar": "Slideshow",
  "colab": {
   "collapsed_sections": [],
   "name": "MIRProjectPhase1Spring99_ژخحغ.ipynb",
   "provenance": []
  },
  "kernelspec": {
   "display_name": "Python 3",
   "language": "python",
   "name": "python3"
  },
  "language_info": {
   "codemirror_mode": {
    "name": "ipython",
    "version": 3
   },
   "file_extension": ".py",
   "mimetype": "text/x-python",
   "name": "python",
   "nbconvert_exporter": "python",
   "pygments_lexer": "ipython3",
   "version": "3.7.3"
  }
 },
 "nbformat": 4,
 "nbformat_minor": 4
}
