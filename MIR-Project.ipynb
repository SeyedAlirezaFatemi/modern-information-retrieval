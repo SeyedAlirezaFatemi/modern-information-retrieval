{
 "cells": [
  {
   "cell_type": "markdown",
   "metadata": {},
   "source": [
    "## Import Dependencies "
   ]
  },
  {
   "cell_type": "code",
   "execution_count": 1,
   "metadata": {},
   "outputs": [],
   "source": [
    "%load_ext autoreload\n",
    "%autoreload 2"
   ]
  },
  {
   "cell_type": "code",
   "execution_count": 2,
   "metadata": {},
   "outputs": [],
   "source": [
    "import sys\n",
    "\n",
    "from src.utils.construct_positional_indexes import construct_positional_indexes\n",
    "from src.utils.load_index import load_index\n",
    "from src.models.TextPreprocessor import PersianTextPreprocessor\n",
    "from src.enums import *"
   ]
  },
  {
   "cell_type": "code",
   "execution_count": 3,
   "metadata": {},
   "outputs": [
    {
     "name": "stderr",
     "output_type": "stream",
     "text": [
      "100%|██████████| 1572/1572 [00:08<00:00, 180.68it/s]\n",
      "100%|██████████| 1572/1572 [00:09<00:00, 161.49it/s]\n"
     ]
    }
   ],
   "source": [
    "manager = construct_positional_indexes()\n",
    "manager.save_index(\"manager.pickle\")"
   ]
  },
  {
   "cell_type": "code",
   "execution_count": 5,
   "metadata": {},
   "outputs": [],
   "source": [
    "text_preprocessor = PersianTextPreprocessor()\n",
    "manager = load_index(\"manager.pickle\", text_preprocessor)"
   ]
  },
  {
   "cell_type": "code",
   "execution_count": 6,
   "metadata": {},
   "outputs": [
    {
     "data": {
      "text/plain": [
       "[278, 313, 330, 477]"
      ]
     },
     "execution_count": 6,
     "metadata": {},
     "output_type": "execute_result"
    }
   ],
   "source": [
    "manager.corpus_index.get_posting_list(\"با\")[0].get_positions(Fields.TEXT)"
   ]
  },
  {
   "cell_type": "code",
   "execution_count": 7,
   "metadata": {},
   "outputs": [],
   "source": [
    "word = \"آقو\""
   ]
  },
  {
   "cell_type": "code",
   "execution_count": 8,
   "metadata": {},
   "outputs": [
    {
     "data": {
      "text/plain": [
       "'آقوس'"
      ]
     },
     "execution_count": 8,
     "metadata": {},
     "output_type": "execute_result"
    }
   ],
   "source": [
    "manager.correct_word(word)"
   ]
  },
  {
   "cell_type": "code",
   "execution_count": 9,
   "metadata": {},
   "outputs": [
    {
     "data": {
      "text/plain": [
       "[5619,\n",
       " 3666,\n",
       " 5236,\n",
       " 6208,\n",
       " 7123,\n",
       " 6177,\n",
       " 3665,\n",
       " 6791,\n",
       " 3360,\n",
       " 6475,\n",
       " 4438,\n",
       " 7101,\n",
       " 6626,\n",
       " 6548,\n",
       " 4335]"
      ]
     },
     "execution_count": 9,
     "metadata": {},
     "output_type": "execute_result"
    }
   ],
   "source": [
    "manager.search(\"نیمه شعبان\")"
   ]
  },
  {
   "cell_type": "code",
   "execution_count": 10,
   "metadata": {},
   "outputs": [
    {
     "data": {
      "text/plain": [
       "[5619,\n",
       " 3666,\n",
       " 5236,\n",
       " 6208,\n",
       " 7123,\n",
       " 6177,\n",
       " 3665,\n",
       " 6791,\n",
       " 3360,\n",
       " 6475,\n",
       " 4438,\n",
       " 7101,\n",
       " 6626,\n",
       " 6548,\n",
       " 4335]"
      ]
     },
     "execution_count": 10,
     "metadata": {},
     "output_type": "execute_result"
    }
   ],
   "source": [
    "manager.search(\"نیمه شعبان\")"
   ]
  },
  {
   "cell_type": "code",
   "execution_count": 5,
   "metadata": {},
   "outputs": [
    {
     "data": {
      "text/plain": [
       "[5619,\n",
       " 3666,\n",
       " 5236,\n",
       " 6208,\n",
       " 7123,\n",
       " 6177,\n",
       " 3665,\n",
       " 6791,\n",
       " 3360,\n",
       " 6475,\n",
       " 4438,\n",
       " 7101,\n",
       " 6626,\n",
       " 6548,\n",
       " 4335]"
      ]
     },
     "execution_count": 5,
     "metadata": {},
     "output_type": "execute_result"
    }
   ],
   "source": [
    "manager.search(\"نیمه شعبان\")"
   ]
  },
  {
   "cell_type": "code",
   "execution_count": 14,
   "metadata": {},
   "outputs": [],
   "source": [
    "manager.add_document_to_indexes(\"./data/Add.xml\", 7157)"
   ]
  },
  {
   "cell_type": "code",
   "execution_count": 11,
   "metadata": {},
   "outputs": [
    {
     "data": {
      "text/plain": [
       "[7157]"
      ]
     },
     "execution_count": 11,
     "metadata": {},
     "output_type": "execute_result"
    }
   ],
   "source": [
    "manager.search({Fields.TITLE: '\"آقا علیرضا\"'})"
   ]
  },
  {
   "cell_type": "code",
   "execution_count": 12,
   "metadata": {},
   "outputs": [],
   "source": [
    "manager.delete_document_from_indexes(\"./data/Add.xml\", 7157)"
   ]
  },
  {
   "cell_type": "code",
   "execution_count": 15,
   "metadata": {},
   "outputs": [
    {
     "name": "stdout",
     "output_type": "stream",
     "text": [
      "\n",
      "        Document ID: 7157\n",
      "        Title Positions: [0]\n",
      "        Text Positions: [0]\n",
      "        \n"
     ]
    }
   ],
   "source": [
    "print(manager.corpus_index.index[\"آقا\"].posting_list[-1])"
   ]
  },
  {
   "cell_type": "code",
   "execution_count": 16,
   "metadata": {},
   "outputs": [
    {
     "data": {
      "text/plain": [
       "{<Fields.TEXT: 'text'>: 62, <Fields.TITLE: 'title'>: 1}"
      ]
     },
     "execution_count": 16,
     "metadata": {},
     "output_type": "execute_result"
    }
   ],
   "source": [
    "manager.corpus_index.index[\"آقا\"].doc_frequency"
   ]
  },
  {
   "cell_type": "code",
   "execution_count": 17,
   "metadata": {},
   "outputs": [],
   "source": [
    "from src.metrics import (\n",
    "    f_measure,\n",
    "    precision,\n",
    "    r_precision,\n",
    "    recall,\n",
    "    ndcg_at_k,\n",
    "    average_precision,\n",
    "    evaluate_search_engine,\n",
    ")"
   ]
  },
  {
   "cell_type": "code",
   "execution_count": 22,
   "metadata": {},
   "outputs": [
    {
     "name": "stdout",
     "output_type": "stream",
     "text": [
      "r_precision: 0.6105804602529432\n",
      "ndcg: 0.6787020126128037\n",
      "f_measure: 0.6279770638289564\n",
      "map: 0.7569273771354816\n"
     ]
    }
   ],
   "source": [
    "evaluate_search_engine(manager, Methods.LTN_LNN)"
   ]
  },
  {
   "cell_type": "code",
   "execution_count": null,
   "metadata": {},
   "outputs": [],
   "source": []
  },
  {
   "cell_type": "code",
   "execution_count": null,
   "metadata": {},
   "outputs": [],
   "source": []
  },
  {
   "cell_type": "code",
   "execution_count": null,
   "metadata": {},
   "outputs": [],
   "source": []
  },
  {
   "cell_type": "code",
   "execution_count": null,
   "metadata": {},
   "outputs": [],
   "source": []
  },
  {
   "cell_type": "code",
   "execution_count": null,
   "metadata": {},
   "outputs": [],
   "source": [
    "import nltk\n",
    "# nltk.download('punkt')\n",
    "# nltk.download('stopwords')\n",
    "# nltk.download('wordnet')"
   ]
  },
  {
   "cell_type": "code",
   "execution_count": 3,
   "metadata": {},
   "outputs": [],
   "source": [
    "from typing import Optional, List\n",
    "\n",
    "from src.enums import Fields\n",
    "from src.models.Document import Document\n",
    "from src.types import DocID\n",
    "from src.utils.read_document import read_documents_json\n",
    "from src.models.TextPreprocessor import PersianTextPreprocessor, EnglishTextPreprocessor\n",
    "from src.models.Manager import Manager\n",
    "\n",
    "import numpy as np\n",
    "from collections import Counter"
   ]
  },
  {
   "cell_type": "code",
   "execution_count": 4,
   "metadata": {},
   "outputs": [],
   "source": [
    "text_preprocessor = EnglishTextPreprocessor(lemmatize=True)"
   ]
  },
  {
   "cell_type": "code",
   "execution_count": 5,
   "metadata": {},
   "outputs": [],
   "source": [
    "train_documents = read_documents_json('./MIR_Phase2/data/train.json', text_preprocessor)"
   ]
  },
  {
   "cell_type": "code",
   "execution_count": 6,
   "metadata": {},
   "outputs": [],
   "source": [
    "val_documents = read_documents_json('./MIR_Phase2/data/validation.json', text_preprocessor)"
   ]
  },
  {
   "cell_type": "code",
   "execution_count": 7,
   "metadata": {},
   "outputs": [
    {
     "name": "stderr",
     "output_type": "stream",
     "text": [
      "100%|██████████| 24000/24000 [00:08<00:00, 2999.91it/s]\n"
     ]
    }
   ],
   "source": [
    "manager = Manager(train_documents, [Fields.BODY, Fields.TITLE], text_preprocessor)"
   ]
  },
  {
   "cell_type": "code",
   "execution_count": 8,
   "metadata": {},
   "outputs": [],
   "source": [
    "def cosine_normalize(mat: np.ndarray):\n",
    "    return mat / np.linalg.norm(mat, axis=1)[:, np.newaxis]"
   ]
  },
  {
   "cell_type": "code",
   "execution_count": 9,
   "metadata": {},
   "outputs": [],
   "source": [
    "fields = [Fields.TITLE, Fields.BODY]\n",
    "num_terms = len(manager.corpus_index.index)\n",
    "num_train_docs = len(manager.documents)\n",
    "num_val_docs = len(val_documents)"
   ]
  },
  {
   "cell_type": "code",
   "execution_count": 10,
   "metadata": {},
   "outputs": [],
   "source": [
    "train_matrix = np.zeros((num_train_docs, num_terms), dtype=np.float32)\n",
    "val_matrix = np.zeros((num_val_docs, num_terms), dtype=np.float32)"
   ]
  },
  {
   "cell_type": "code",
   "execution_count": 11,
   "metadata": {},
   "outputs": [],
   "source": [
    "for index, (token, token_item) in enumerate(manager.corpus_index.index.items()):\n",
    "    for field in fields:\n",
    "        df = token_item.doc_frequency[field]\n",
    "        if df == 0:\n",
    "            continue\n",
    "        idf = np.log10(num_train_docs/df)\n",
    "        for posting_list_item in token_item.posting_list:\n",
    "            doc_id = posting_list_item.doc_id\n",
    "            tf = posting_list_item.get_tf(field)\n",
    "            train_matrix[doc_id, index] += tf * idf"
   ]
  },
  {
   "cell_type": "code",
   "execution_count": 12,
   "metadata": {},
   "outputs": [],
   "source": [
    "normalized_train_matrix = cosine_normalize(train_matrix)"
   ]
  },
  {
   "cell_type": "code",
   "execution_count": 13,
   "metadata": {},
   "outputs": [],
   "source": [
    "val_documents_counts = {}\n",
    "for field in fields:\n",
    "    val_documents_counts[field] = []\n",
    "    for doc in val_documents:\n",
    "        val_documents_counts[field].append(Counter(doc.get_tokens(field)))"
   ]
  },
  {
   "cell_type": "code",
   "execution_count": 14,
   "metadata": {},
   "outputs": [],
   "source": [
    "for token_index, (token, token_item) in enumerate(manager.corpus_index.index.items()):\n",
    "    for field in fields:\n",
    "        df = token_item.doc_frequency[field]\n",
    "        if df == 0:\n",
    "            continue\n",
    "        idf = np.log10(num_train_docs/df)\n",
    "        for doc_index, count in enumerate(val_documents_counts[field]):\n",
    "            if token in count:\n",
    "                val_matrix[doc_index, token_index] += idf * count[token]"
   ]
  },
  {
   "cell_type": "code",
   "execution_count": 18,
   "metadata": {},
   "outputs": [],
   "source": [
    "normalized_val_matrix = cosine_normalize(val_matrix).T"
   ]
  },
  {
   "cell_type": "code",
   "execution_count": null,
   "metadata": {},
   "outputs": [],
   "source": [
    "# similarities =  normalized_train_matrix @ normalized_val_matrix.T"
   ]
  },
  {
   "cell_type": "code",
   "execution_count": 19,
   "metadata": {},
   "outputs": [
    {
     "name": "stderr",
     "output_type": "stream",
     "text": [
      "<ipython-input-19-96a8dcf798a7>:6: NumbaPerformanceWarning: \u001b[1m\u001b[1mnp.dot() is faster on contiguous arrays, called on (array(float32, 2d, A), array(float32, 2d, A))\u001b[0m\u001b[0m\n",
      "  sims = np.dot(normalized_train_matrix, normalized_val_matrix)\n"
     ]
    }
   ],
   "source": [
    "import numba as nb\n",
    "from numba import njit\n",
    "\n",
    "@njit(nb.float32[:,:](nb.float32[:,:], nb.float32[:,:]), fastmath=True)\n",
    "def calc_similarities(normalized_train_matrix, normalized_val_matrix):\n",
    "    sims = np.dot(normalized_train_matrix, normalized_val_matrix)\n",
    "    return sims"
   ]
  },
  {
   "cell_type": "code",
   "execution_count": 20,
   "metadata": {},
   "outputs": [],
   "source": [
    "res = calc_similarities(normalized_train_matrix, normalized_val_matrix)"
   ]
  },
  {
   "cell_type": "code",
   "execution_count": 21,
   "metadata": {},
   "outputs": [
    {
     "data": {
      "text/plain": [
       "(24000, 3000)"
      ]
     },
     "execution_count": 21,
     "metadata": {},
     "output_type": "execute_result"
    }
   ],
   "source": [
    "res.shape"
   ]
  },
  {
   "cell_type": "code",
   "execution_count": null,
   "metadata": {},
   "outputs": [],
   "source": []
  },
  {
   "cell_type": "code",
   "execution_count": 22,
   "metadata": {},
   "outputs": [],
   "source": [
    "x = np.argmax(res, axis=0)"
   ]
  },
  {
   "cell_type": "code",
   "execution_count": 24,
   "metadata": {},
   "outputs": [
    {
     "data": {
      "text/plain": [
       "13659"
      ]
     },
     "execution_count": 24,
     "metadata": {},
     "output_type": "execute_result"
    }
   ],
   "source": [
    "x[0]"
   ]
  },
  {
   "cell_type": "code",
   "execution_count": 62,
   "metadata": {},
   "outputs": [
    {
     "data": {
      "text/plain": [
       "4"
      ]
     },
     "execution_count": 62,
     "metadata": {},
     "output_type": "execute_result"
    }
   ],
   "source": [
    "documents[13659].category"
   ]
  },
  {
   "cell_type": "code",
   "execution_count": null,
   "metadata": {},
   "outputs": [],
   "source": []
  },
  {
   "cell_type": "code",
   "execution_count": 26,
   "metadata": {},
   "outputs": [
    {
     "name": "stdout",
     "output_type": "stream",
     "text": [
      "1\n",
      "69\n",
      "10\n",
      "25\n",
      "2500\n",
      "1\n",
      "120\n"
     ]
    }
   ],
   "source": [
    "for doc_id, train_doc in manager.documents.items():\n",
    "    for field in fields:\n",
    "        for token in train_doc.get_tokens(field):\n",
    "            print(manager.corpus_index.get_token_item(token).term_frequency[field])\n",
    "        break\n",
    "    break"
   ]
  },
  {
   "cell_type": "code",
   "execution_count": null,
   "metadata": {},
   "outputs": [],
   "source": [
    "def run_knn(doc: Document, k:int = 1, distance: str = 'cosine'):\n",
    "    "
   ]
  },
  {
   "cell_type": "code",
   "execution_count": 16,
   "metadata": {},
   "outputs": [],
   "source": [
    "x = manager.corpus_index.get_posting_list(\"god\")[0]"
   ]
  },
  {
   "cell_type": "code",
   "execution_count": 17,
   "metadata": {},
   "outputs": [
    {
     "data": {
      "text/plain": [
       "1"
      ]
     },
     "execution_count": 17,
     "metadata": {},
     "output_type": "execute_result"
    }
   ],
   "source": [
    "x.body_tf"
   ]
  },
  {
   "cell_type": "code",
   "execution_count": 18,
   "metadata": {},
   "outputs": [
    {
     "data": {
      "text/plain": [
       "8"
      ]
     },
     "execution_count": 18,
     "metadata": {},
     "output_type": "execute_result"
    }
   ],
   "source": [
    "x.doc_id"
   ]
  },
  {
   "cell_type": "code",
   "execution_count": 19,
   "metadata": {},
   "outputs": [
    {
     "data": {
      "text/plain": [
       "[]"
      ]
     },
     "execution_count": 19,
     "metadata": {},
     "output_type": "execute_result"
    }
   ],
   "source": [
    "x.title_positions"
   ]
  },
  {
   "cell_type": "code",
   "execution_count": null,
   "metadata": {},
   "outputs": [],
   "source": []
  }
 ],
 "metadata": {
  "kernelspec": {
   "display_name": "Python 3",
   "language": "python",
   "name": "python3"
  },
  "language_info": {
   "codemirror_mode": {
    "name": "ipython",
    "version": 3
   },
   "file_extension": ".py",
   "mimetype": "text/x-python",
   "name": "python",
   "nbconvert_exporter": "python",
   "pygments_lexer": "ipython3",
   "version": "3.7.3"
  }
 },
 "nbformat": 4,
 "nbformat_minor": 4
}
