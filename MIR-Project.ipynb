{
 "cells": [
  {
   "cell_type": "markdown",
   "metadata": {},
   "source": [
    "## Import Dependencies "
   ]
  },
  {
   "cell_type": "code",
   "execution_count": 1,
   "metadata": {},
   "outputs": [],
   "source": [
    "import sys\n",
    "\n",
    "# sys.path.insert(0, '../MIR')"
   ]
  },
  {
   "cell_type": "code",
   "execution_count": 2,
   "metadata": {},
   "outputs": [],
   "source": [
    "from src.utils.construct_positional_indexes import construct_positional_indexes\n",
    "from src.utils.load_index import load_index\n",
    "from src.models.TextPreparer import TextPreparer\n",
    "from src.enums import *"
   ]
  },
  {
   "cell_type": "code",
   "execution_count": 3,
   "metadata": {},
   "outputs": [
    {
     "name": "stderr",
     "output_type": "stream",
     "text": [
      "100%|██████████| 1572/1572 [00:08<00:00, 175.52it/s]\n",
      "100%|██████████| 1572/1572 [00:14<00:00, 110.47it/s]\n"
     ]
    }
   ],
   "source": [
    "manager = construct_positional_indexes()\n",
    "manager.save_index(\"manager.pickle\")"
   ]
  },
  {
   "cell_type": "code",
   "execution_count": 3,
   "metadata": {},
   "outputs": [],
   "source": [
    "manager = load_index(\"manager.pickle\")"
   ]
  },
  {
   "cell_type": "code",
   "execution_count": 4,
   "metadata": {},
   "outputs": [
    {
     "data": {
      "text/plain": [
       "[278, 313, 330, 477]"
      ]
     },
     "execution_count": 4,
     "metadata": {},
     "output_type": "execute_result"
    }
   ],
   "source": [
    "manager.corpus_index.get_posting_list(\"با\")[0].get_positions(Fields.TEXT)"
   ]
  },
  {
   "cell_type": "code",
   "execution_count": 4,
   "metadata": {},
   "outputs": [],
   "source": [
    "word = \"آقو\""
   ]
  },
  {
   "cell_type": "code",
   "execution_count": 6,
   "metadata": {},
   "outputs": [
    {
     "data": {
      "text/plain": [
       "'آقوس'"
      ]
     },
     "execution_count": 6,
     "metadata": {},
     "output_type": "execute_result"
    }
   ],
   "source": [
    "manager.correct_word(word)"
   ]
  },
  {
   "cell_type": "code",
   "execution_count": null,
   "metadata": {},
   "outputs": [],
   "source": []
  },
  {
   "cell_type": "code",
   "execution_count": 13,
   "metadata": {},
   "outputs": [
    {
     "data": {
      "text/plain": [
       "'آقوس'"
      ]
     },
     "execution_count": 13,
     "metadata": {},
     "output_type": "execute_result"
    }
   ],
   "source": [
    "max(a, key=lambda item: a[item]/(len(item) + 1 - a[item] + len(word) + 1))"
   ]
  },
  {
   "cell_type": "code",
   "execution_count": null,
   "metadata": {},
   "outputs": [],
   "source": []
  },
  {
   "cell_type": "code",
   "execution_count": 4,
   "metadata": {},
   "outputs": [
    {
     "data": {
      "text/plain": [
       "[5619,\n",
       " 3666,\n",
       " 5236,\n",
       " 6208,\n",
       " 7123,\n",
       " 6177,\n",
       " 3665,\n",
       " 6791,\n",
       " 3360,\n",
       " 6475,\n",
       " 4438,\n",
       " 7101,\n",
       " 6626,\n",
       " 6548,\n",
       " 4335]"
      ]
     },
     "execution_count": 4,
     "metadata": {},
     "output_type": "execute_result"
    }
   ],
   "source": [
    "manager.search(\"نیمه شعبان\")"
   ]
  },
  {
   "cell_type": "code",
   "execution_count": 5,
   "metadata": {},
   "outputs": [
    {
     "data": {
      "text/plain": [
       "[5619,\n",
       " 3666,\n",
       " 5236,\n",
       " 6208,\n",
       " 7123,\n",
       " 6177,\n",
       " 3665,\n",
       " 6791,\n",
       " 3360,\n",
       " 6475,\n",
       " 4438,\n",
       " 7101,\n",
       " 6626,\n",
       " 6548,\n",
       " 4335]"
      ]
     },
     "execution_count": 5,
     "metadata": {},
     "output_type": "execute_result"
    }
   ],
   "source": [
    "manager.search(\"نیمه شعبان\")"
   ]
  },
  {
   "cell_type": "code",
   "execution_count": 5,
   "metadata": {},
   "outputs": [
    {
     "data": {
      "text/plain": [
       "[5619,\n",
       " 3666,\n",
       " 5236,\n",
       " 6208,\n",
       " 7123,\n",
       " 6177,\n",
       " 3665,\n",
       " 6791,\n",
       " 3360,\n",
       " 6475,\n",
       " 4438,\n",
       " 7101,\n",
       " 6626,\n",
       " 6548,\n",
       " 4335]"
      ]
     },
     "execution_count": 5,
     "metadata": {},
     "output_type": "execute_result"
    }
   ],
   "source": [
    "manager.search(\"نیمه شعبان\")"
   ]
  },
  {
   "cell_type": "code",
   "execution_count": null,
   "metadata": {},
   "outputs": [],
   "source": []
  },
  {
   "cell_type": "code",
   "execution_count": 5,
   "metadata": {},
   "outputs": [],
   "source": [
    "manager.add_document_to_indexes(\"./data/Add.xml\", 7157)"
   ]
  },
  {
   "cell_type": "code",
   "execution_count": 9,
   "metadata": {},
   "outputs": [
    {
     "data": {
      "text/plain": [
       "[]"
      ]
     },
     "execution_count": 9,
     "metadata": {},
     "output_type": "execute_result"
    }
   ],
   "source": [
    "manager.search({Fields.TITLE: '\"آقا علیرضا\"'})"
   ]
  },
  {
   "cell_type": "code",
   "execution_count": 8,
   "metadata": {},
   "outputs": [
    {
     "ename": "KeyError",
     "evalue": "'آقو'",
     "output_type": "error",
     "traceback": [
      "\u001b[0;31m---------------------------------------------------------------------------\u001b[0m",
      "\u001b[0;31mKeyError\u001b[0m                                  Traceback (most recent call last)",
      "\u001b[0;32m<ipython-input-8-17b60dd05c45>\u001b[0m in \u001b[0;36m<module>\u001b[0;34m\u001b[0m\n\u001b[0;32m----> 1\u001b[0;31m \u001b[0mmanager\u001b[0m\u001b[0;34m.\u001b[0m\u001b[0mcorpus_index\u001b[0m\u001b[0;34m.\u001b[0m\u001b[0mindex\u001b[0m\u001b[0;34m[\u001b[0m\u001b[0;34m\"آقو\"\u001b[0m\u001b[0;34m]\u001b[0m\u001b[0;34m.\u001b[0m\u001b[0mdoc_frequency\u001b[0m\u001b[0;34m\u001b[0m\u001b[0;34m\u001b[0m\u001b[0m\n\u001b[0m",
      "\u001b[0;31mKeyError\u001b[0m: 'آقو'"
     ]
    }
   ],
   "source": [
    "manager.corpus_index.index[\"آقو\"].doc_frequency"
   ]
  },
  {
   "cell_type": "code",
   "execution_count": 8,
   "metadata": {},
   "outputs": [],
   "source": [
    "manager.delete_document_from_indexes(\"./data/Add.xml\", 7157)"
   ]
  },
  {
   "cell_type": "code",
   "execution_count": 10,
   "metadata": {},
   "outputs": [
    {
     "name": "stdout",
     "output_type": "stream",
     "text": [
      "\n",
      "        Document ID: 7153\n",
      "        Title Positions: []\n",
      "        Text Positions: [1049, 1211, 1306]\n",
      "        \n"
     ]
    }
   ],
   "source": [
    "print(manager.corpus_index.index[\"آقا\"].posting_list[-1])"
   ]
  },
  {
   "cell_type": "code",
   "execution_count": 11,
   "metadata": {},
   "outputs": [
    {
     "data": {
      "text/plain": [
       "{<Fields.TITLE: 'title'>: 0, <Fields.TEXT: 'text'>: 61}"
      ]
     },
     "execution_count": 11,
     "metadata": {},
     "output_type": "execute_result"
    }
   ],
   "source": [
    "manager.corpus_index.index[\"آقا\"].doc_frequency"
   ]
  },
  {
   "cell_type": "code",
   "execution_count": null,
   "metadata": {},
   "outputs": [],
   "source": []
  },
  {
   "cell_type": "code",
   "execution_count": 14,
   "metadata": {},
   "outputs": [],
   "source": [
    "import numpy as np\n",
    "\n",
    "from src.utils.read_queries import read_queries\n",
    "from src.metrics import (\n",
    "    f_measure,\n",
    "    precision,\n",
    "    r_precision,\n",
    "    recall,\n",
    "    ndcg_at_k,\n",
    "    average_precision,\n",
    "    evaluate_search_engine,\n",
    ")"
   ]
  },
  {
   "cell_type": "code",
   "execution_count": 15,
   "metadata": {},
   "outputs": [
    {
     "name": "stdout",
     "output_type": "stream",
     "text": [
      "No document satisfies the current phrasal search!\n"
     ]
    },
    {
     "name": "stderr",
     "output_type": "stream",
     "text": [
      "/home/alireza/PycharmProjects/MIR/src/metrics/__init__.py:14: RuntimeWarning: invalid value encountered in double_scalars\n",
      "  return np.sum(relevant) / len(relevant)\n",
      "/home/alireza/anaconda3/envs/skyrim/lib/python3.7/site-packages/numpy/core/fromnumeric.py:3257: RuntimeWarning: Mean of empty slice.\n",
      "  out=out, **kwargs)\n",
      "/home/alireza/anaconda3/envs/skyrim/lib/python3.7/site-packages/numpy/core/_methods.py:161: RuntimeWarning: invalid value encountered in double_scalars\n",
      "  ret = ret.dtype.type(ret / rcount)\n"
     ]
    },
    {
     "name": "stdout",
     "output_type": "stream",
     "text": [
      "No document satisfies the current phrasal search!\n"
     ]
    },
    {
     "name": "stderr",
     "output_type": "stream",
     "text": [
      "/home/alireza/PycharmProjects/MIR/src/metrics/__init__.py:24: RuntimeWarning: invalid value encountered in double_scalars\n",
      "  return 2 * precision_val * recall_val / (precision_val + recall_val)\n"
     ]
    },
    {
     "name": "stdout",
     "output_type": "stream",
     "text": [
      "No document satisfies the current phrasal search!\n",
      "No document satisfies the current phrasal search!\n"
     ]
    },
    {
     "data": {
      "text/plain": [
       "(0.07174799393334863, 0.08944342206165525, nan, nan)"
      ]
     },
     "execution_count": 15,
     "metadata": {},
     "output_type": "execute_result"
    }
   ],
   "source": [
    "evaluate_search_engine(manager)"
   ]
  },
  {
   "cell_type": "code",
   "execution_count": null,
   "metadata": {},
   "outputs": [],
   "source": []
  },
  {
   "cell_type": "code",
   "execution_count": 6,
   "metadata": {},
   "outputs": [],
   "source": [
    "MAX_RETRIEVED = 15"
   ]
  },
  {
   "cell_type": "code",
   "execution_count": 3,
   "metadata": {},
   "outputs": [],
   "source": [
    "def evaluate_search_engine(query_id=\"all\"):\n",
    "    queries, relevants = read_queries(query_id)\n",
    "    results_r_precision = []\n",
    "    results_ndcg = []\n",
    "    results_f_measure = []\n",
    "    results_map = []\n",
    "    for query, query_relevants in zip(queries, relevants):\n",
    "        num_relevant_docs = len(query_relevants)\n",
    "        retrieved_docs = manager.search(query, k=num_relevant_docs)\n",
    "        relevance = []\n",
    "        for retrieved_doc in retrieved_docs:\n",
    "            if retrieved_doc in query_relevants:\n",
    "                relevance.append(1)\n",
    "            else:\n",
    "                relevance.append(0)\n",
    "        results_r_precision.append(r_precision(relevance, num_relevant_docs))\n",
    "        results_ndcg.append(ndcg_at_k(relevance, num_relevant_docs))\n",
    "        results_f_measure.append(f_measure(relevance, num_relevant_docs))\n",
    "        results_map.append(average_precision(relevance))\n",
    "    return (\n",
    "        np.mean(results_r_precision),\n",
    "        np.mean(results_ndcg),\n",
    "        np.mean(results_f_measure),\n",
    "        np.mean(results_map),\n",
    "    )"
   ]
  },
  {
   "cell_type": "code",
   "execution_count": 7,
   "metadata": {},
   "outputs": [
    {
     "data": {
      "text/plain": [
       "(0.6723282130404556,\n",
       " 0.7058278702806886,\n",
       " 0.6723282130404556,\n",
       " 0.8153515319937519)"
      ]
     },
     "execution_count": 7,
     "metadata": {},
     "output_type": "execute_result"
    }
   ],
   "source": [
    "evaluate_search_engine()"
   ]
  },
  {
   "cell_type": "code",
   "execution_count": null,
   "metadata": {},
   "outputs": [],
   "source": []
  },
  {
   "cell_type": "code",
   "execution_count": null,
   "metadata": {},
   "outputs": [],
   "source": []
  },
  {
   "cell_type": "code",
   "execution_count": null,
   "metadata": {},
   "outputs": [],
   "source": []
  }
 ],
 "metadata": {
  "kernelspec": {
   "display_name": "Python 3",
   "language": "python",
   "name": "python3"
  },
  "language_info": {
   "codemirror_mode": {
    "name": "ipython",
    "version": 3
   },
   "file_extension": ".py",
   "mimetype": "text/x-python",
   "name": "python",
   "nbconvert_exporter": "python",
   "pygments_lexer": "ipython3",
   "version": "3.7.3"
  }
 },
 "nbformat": 4,
 "nbformat_minor": 4
}
